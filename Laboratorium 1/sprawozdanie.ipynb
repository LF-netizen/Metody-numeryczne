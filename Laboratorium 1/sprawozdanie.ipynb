{
 "cells": [
  {
   "cell_type": "markdown",
   "metadata": {
    "slideshow": {
     "slide_type": "notes"
    }
   },
   "source": [
    "# <center>Laboratorium 1<br>Metody Numeryczne</center>"
   ]
  },
  {
   "cell_type": "markdown",
   "metadata": {},
   "source": [
    "Biblioteki niezbędne do wykonania zadania:\n",
    "\n",
    "(wykonanie tego bloku zapewnia do nich dostęp w kolejnych blokach)"
   ]
  },
  {
   "cell_type": "code",
   "execution_count": 1,
   "metadata": {},
   "outputs": [],
   "source": [
    "import numpy as np\n",
    "import scipy"
   ]
  },
  {
   "cell_type": "markdown",
   "metadata": {},
   "source": [
    "Przydatne w trakcie zajęć mogą okazać się metody macierzy z pakietu Numpy, takie jak na przykład długość wektora - *[len]()* czy rozmiar macierzy -\n",
    "*[shape](https://docs.scipy.org/doc/numpy/reference/generated/numpy.ndarray.shape.html#numpy.ndarray.shape)*. Poniższy kod ilustruje ich podstawowe działanie. Dodatkowe metody obiektu $ndarray$ można znaleźć w oficjalnej *[dokumentacji](https://docs.scipy.org/doc/numpy/reference/arrays.ndarray.html)*."
   ]
  },
  {
   "cell_type": "code",
   "execution_count": 2,
   "metadata": {
    "scrolled": true,
    "tags": []
   },
   "outputs": [
    {
     "name": "stdout",
     "output_type": "stream",
     "text": [
      "Wektor:\n",
      "[1 2 3]\n",
      "Długość: 3\n",
      "Rozmiar: (3,) \n",
      "\n",
      "Macierz:\n",
      "[[1 2 3]\n",
      " [4 5 6]\n",
      " [7 8 9]]\n",
      "Rozmiar: (3, 3)\n"
     ]
    }
   ],
   "source": [
    "vector = np.array([1, 2, 3])\n",
    "print('Wektor:')\n",
    "print(vector)\n",
    "print('Długość:', len(vector))\n",
    "print('Rozmiar:', vector.shape, '\\n')\n",
    "\n",
    "matrix = np.array([[1, 2, 3], [4, 5, 6], [7, 8, 9]])\n",
    "print('Macierz:')\n",
    "print(matrix)\n",
    "print('Rozmiar:', matrix.shape)"
   ]
  },
  {
   "cell_type": "markdown",
   "metadata": {},
   "source": [
    "***Zadanie 1.***  \n",
    "Zaimplementuj funkcję $cylinder\\_area$ tak by zwracała pole powierzchni walca o promieniu podstawy $r$ i wysokości $h$. Stała $\\pi$ jest zdefiniowana np. w bibliotece *[math](https://docs.python.org/3/library/math.html#constants)*. Jeżeli nie da się policzyć pola funkcja powinna zwracać wartość *NaN*. Sprawdź działanie zaimplementowanej funkcji dla dowolnych wartości w tym notatniku."
   ]
  },
  {
   "cell_type": "code",
   "execution_count": 3,
   "metadata": {},
   "outputs": [
    {
     "name": "stdout",
     "output_type": "stream",
     "text": [
      "141.3716694115407\n",
      "nan\n"
     ]
    }
   ],
   "source": [
    "from main import cylinder_area\n",
    "print(cylinder_area(3, 4.5))\n",
    "print(cylinder_area(-1, 2.2))"
   ]
  },
  {
   "cell_type": "markdown",
   "metadata": {},
   "source": [
    "Funkcja opiera się na dobrze znanym wzorze na pole powierzchni walca. Import stałej $\\pi$ z biblioteki $math$ pozwala znacznie zwiększyć precyzję obliczeń. Funkcja zwraca wartość pola wtedy i tylko wtedy, gdy oba parametry są typu $\\textit{float}$ bądź $\\textit{int}$ oraz są dodatnie, w przeciwnym wypadku zwracana jest wartość $NaN$."
   ]
  },
  {
   "cell_type": "markdown",
   "metadata": {},
   "source": [
    "**_Zadanie 2._**  \n",
    "Wygeneruj dowolne ciągi arytmetyczny o kroku różnym od jeden i niebędącym liczbą całkowitą, używając w tym celu funkcji _[arange](https://docs.scipy.org/doc/numpy/reference/generated/numpy.arange.html)_ oraz _[linspace](https://docs.scipy.org/doc/numpy-1.10.0/reference/generated/numpy.linspace.html)_. Wypisz go i przeanalizuj otrzymane rezultaty."
   ]
  },
  {
   "cell_type": "code",
   "execution_count": 4,
   "metadata": {},
   "outputs": [
    {
     "name": "stdout",
     "output_type": "stream",
     "text": [
      "[ 3.5   3.95  4.4   4.85  5.3   5.75  6.2   6.65  7.1   7.55  8.    8.45\n",
      "  8.9   9.35  9.8  10.25 10.7  11.15 11.6 ]\n",
      "\n",
      "\n",
      "[ 5.2         6.74285714  8.28571429  9.82857143 11.37142857 12.91428571\n",
      " 14.45714286 16.        ]\n"
     ]
    }
   ],
   "source": [
    "a1 = np.arange(3.5, 12, 0.45)\n",
    "a2 = np.linspace(5.2, 16, num=8)\n",
    "\n",
    "print(a1)\n",
    "print('\\n')\n",
    "print(a2)"
   ]
  },
  {
   "cell_type": "markdown",
   "metadata": {},
   "source": [
    "Funkcja $arrange$ zwraca ciąg arytmetyczny o zadanej przez nas różnicy oraz gwarantuje, że ostatni wyraz tego ciągu będzie mniejszy od wybranej liczby. W przypadku $linspace$ to my determinujemy ilość wyrazów ciągu oraz dokładny przedział, w którym będą się zawierać jego elementy, zaś funkcja automatycznie wylicza krok tego ciągu. $Linspace$ wydaje się być idealnym zastosowaniem dla plotowania funkcji na danym przedziale."
   ]
  },
  {
   "cell_type": "markdown",
   "metadata": {},
   "source": [
    "***Zadanie 3.***  \n",
    "Zaimplementuj funkcję $fib$ zwracającą wektor pierszych n elementów *[ciągu Fibonnaciego](https://pl.wikipedia.org/wiki/Ci%C4%85g_Fibonacciego)*, jeżeli nie jest to możliwe funkcja powinna zwrócić wartość *None*."
   ]
  },
  {
   "cell_type": "code",
   "execution_count": 5,
   "metadata": {},
   "outputs": [
    {
     "name": "stdout",
     "output_type": "stream",
     "text": [
      "Wartość funkcji dla n = 5: \n",
      " [array([1., 1., 2., 3., 5.])]\n",
      "Wartość funkcji dla n = 0.5: \n",
      " None\n"
     ]
    }
   ],
   "source": [
    "from main import fib\n",
    "print(\"Wartość funkcji dla n = 5: \\n {0}\".format(fib(5)))\n",
    "print(\"Wartość funkcji dla n = 0.5: \\n {0}\".format(fib(0.5)))"
   ]
  },
  {
   "cell_type": "markdown",
   "metadata": {},
   "source": [
    "Funkcja zwraca wektor wtedy i tylko wtedy, gdy argument jest typu całkowitego oraz gdy nie jest mniejszy od $1$. Gdy te warunki są spełnione, tworzy wektor jedynek i w pętli przechodzi po niej, wyliczjąc kolejne wyrazy zgodnie z definicją ciągu. Należy uważać, aby nie wyjść poza zakres indeksów dla $n = 1$."
   ]
  },
  {
   "cell_type": "markdown",
   "metadata": {},
   "source": [
    "***Zadanie 4.***  \n",
    "Napisz funkję $matrix\\_calculations$ która jako argument przyjmuje dowolną wartość liczbową *a* i tworzy macierz:  \n",
    "  \n",
    "$\\mathbf{M} =\\left[ \\begin{matrix}\n",
    "a & 1 & -a\\\\\n",
    "0 & 1 & 1\\\\\n",
    "-a & a & 1\n",
    "\\end{matrix}\\right]\n",
    "$    \n",
    "   \n",
    "Dla zadeklarowanej macierzy wyznacz numerycznie macierz odwrotną $\\mathbf{Minv}$ (jeżeli nie istnieje taka macierz wartość wynosi NaN), macierz transponowaną $\\mathbf{Mt}$ i wyznacznik macierzy $\\mathbf{Mdet}$. Zwróć otrzymane wartości w postaci krotki postaci $(\\mathbf{Minv}, \\mathbf{Mt}, \\mathbf{Mdet})$.  Wypisz otrzymane wyniki. \n",
    "  \n",
    "***Wskazówki:*** Do tworzenia obiektów mających własności macierzy w języku Python używa się klasy *[array](https://docs.scipy.org/doc/numpy-1.15.1/reference/generated/numpy.array.html)* z pakietu *[numpy](http://www.numpy.org/)*, przykładowe użycie:"
   ]
  },
  {
   "cell_type": "code",
   "execution_count": 6,
   "metadata": {
    "scrolled": true,
    "tags": []
   },
   "outputs": [
    {
     "name": "stdout",
     "output_type": "stream",
     "text": [
      "Wektor poziomy:\n",
      " [1 2 3]\n",
      "Wektor pionowy:\n",
      " [[1]\n",
      " [2]\n",
      " [3]]\n",
      "Macierz:\n",
      " [[1 2]\n",
      " [3 4]]\n"
     ]
    }
   ],
   "source": [
    "import numpy as np # słowo kluczowe \"as\" oznacza przesłania nazwę numpy i pozwala  \n",
    "a = np.array([1, 2, 3])\n",
    "b = np.array([[1], [2], [3]])\n",
    "A = np.array([[1,2],[3,4]])\n",
    "print(\"Wektor poziomy:\\n {0}\".format(a))\n",
    "print(\"Wektor pionowy:\\n {0}\".format(b))\n",
    "print(\"Macierz:\\n {0}\".format(A))"
   ]
  },
  {
   "cell_type": "markdown",
   "metadata": {},
   "source": [
    "Do wykonania operacji odwracania macierzy należy użyć funkcji *[inv](https://docs.scipy.org/doc/numpy/reference/generated/numpy.linalg.inv.html)*, do obliczenia wyznacznika macierzy stosuje się funkcję *[det](https://docs.scipy.org/doc/numpy-1.15.0/reference/generated/numpy.linalg.det.html)*  z bliblioteki *[linalg](https://docs.scipy.org/doc/numpy/reference/routines.linalg.html)*. Natomiast transpozycję macierzy wykonujemy przez funkcję *[transpose](https://docs.scipy.org/doc/numpy-1.14.0/reference/generated/numpy.transpose.html)* której skrucona wersja to $M.T$ z pakietu *numpy*.  \n",
    "    \n",
    "*Ciekawostka:* Python natywnie nie zawiera struktury danych typu tablica, na poziomie języka jest to rozwiązane poprzez strukturę listy list do której elementów odwołuje się poprzez indeksy jak w C/C++."
   ]
  },
  {
   "cell_type": "code",
   "execution_count": 7,
   "metadata": {},
   "outputs": [
    {
     "name": "stdout",
     "output_type": "stream",
     "text": [
      "Macierz o wyznaczniku różnym od 0: \n",
      "\n",
      "Macierz odwrotna: \n",
      "[[ 0.09375  0.53125 -0.15625]\n",
      " [ 0.125    0.375    0.125  ]\n",
      " [-0.125    0.625   -0.125  ]]\n",
      "Macierz transponowana: \n",
      "[[ 4  0 -4]\n",
      " [ 1  1  4]\n",
      " [-4  1  1]]\n",
      "Wyznacznik macierzy: \n",
      "-32.0\n",
      "\n",
      "Macierz o wyznaczniku równym 0: \n",
      "\n",
      "Macierz odwrotna: \n",
      "nan\n",
      "Macierz transponowana: \n",
      "[[0 0 0]\n",
      " [1 1 0]\n",
      " [0 1 1]]\n",
      "Wyznacznik macierzy: \n",
      "0.0\n"
     ]
    }
   ],
   "source": [
    "from main import matrix_calculations\n",
    "print(\"Macierz o wyznaczniku różnym od 0: \\n\")\n",
    "\n",
    "Minv, Mt, Mdet = matrix_calculations(4)\n",
    "print(\"Macierz odwrotna: \\n{0}\".format(Minv))\n",
    "print(\"Macierz transponowana: \\n{0}\".format(Mt))\n",
    "print(\"Wyznacznik macierzy: \\n{0}\".format(Mdet))\n",
    "\n",
    "print(\"\\nMacierz o wyznaczniku równym 0: \\n\")\n",
    "\n",
    "Minv, Mt, Mdet = matrix_calculations(0)\n",
    "print(\"Macierz odwrotna: \\n{0}\".format(Minv))\n",
    "print(\"Macierz transponowana: \\n{0}\".format(Mt))\n",
    "print(\"Wyznacznik macierzy: \\n{0}\".format(Mdet))"
   ]
  },
  {
   "cell_type": "markdown",
   "metadata": {},
   "source": [
    "Pakiet $numpy$ zawiera w sobie podstawowe operacje na macierzach. Macierz odwrotna możliwa jest do wyznaczenia wtedy i tylko wtedy, gdy wyznacznik tej macierzy jest różny od zera - w przeciwnym wypadku przypisywana jest wartość $NaN$. W pakiecie tym zaimplementowano również przejrzysty i prosty sposób na wypisywanie wektorów bądź macierzy pomagające w demonstracji działania funkcji. Mały detal odnośnie wypisywania: nie należy wstawiać spacji przed wypisywaną macierzą w nowej linii - ma to, w mojej opinii, nadzyczaj negatywny wpływ na estetykę."
   ]
  },
  {
   "cell_type": "code",
   "execution_count": 8,
   "metadata": {},
   "outputs": [
    {
     "name": "stdout",
     "output_type": "stream",
     "text": [
      "Bez spacji: \n",
      "[[1 2]\n",
      " [3 4]]\n",
      "Ze spacją: \n",
      " [[1 2]\n",
      " [3 4]]\n"
     ]
    }
   ],
   "source": [
    "demonstrate = np.array([[1, 2], [3, 4]])\n",
    "print(\"Bez spacji: \\n{0}\".format(demonstrate))\n",
    "print(\"Ze spacją: \\n {0}\".format(demonstrate))"
   ]
  },
  {
   "cell_type": "markdown",
   "metadata": {},
   "source": [
    "***Zadanie 5.***  \n",
    "Stwórz w noataniku macierz:  \n",
    "$\\mathbf{M} =\\left[ \\begin{matrix}\n",
    "3 & 1 & -2 & 4\\\\\n",
    "0 & 1 & 1 & 5\\\\\n",
    "-2 & 1 & 1 & 6\\\\\n",
    "4 & 3 & 0 & 1\\\\\n",
    "\\end{matrix}\\right]\n",
    "$   \n",
    "Wypisz przy pomocy funkcji *print* następujące elementy macierzy $\\mathbf{M}$: $\\mathbf{M}_{1,1},\\mathbf{M}_{3,3},\\mathbf{M}_{3,2}$. Zdefiniuj wektor $\\mathbf{w1}$ którego elementy to trzecia kolumna macierzy $\\mathbf{M}$ oraz wektor $\\mathbf{w2}$ który składa się z drugiego wiersza tej macierzy.  \n",
    "  \n",
    "***Wskazówki:***\n",
    "Tablice z pakietu *numpy* są indeksowane od zera a do każdego elementu można odwołać się poprzez jego indeks. Przykład użycie\n"
   ]
  },
  {
   "cell_type": "code",
   "execution_count": 9,
   "metadata": {
    "tags": []
   },
   "outputs": [
    {
     "name": "stdout",
     "output_type": "stream",
     "text": [
      "Macierz P=\n",
      "[[1 3 2]\n",
      " [3 4 6]\n",
      " [7 8 9]]\n",
      "Elementy trzeciej kolumny:\n",
      " [2 6 9]\n",
      "Elementy trzeciego wiersza:\n",
      " [7 8 9]\n"
     ]
    }
   ],
   "source": [
    "# Inicjalizacja macierzy do przykładu\n",
    "P = np.array([[1,3,2],[3,4, 6],[7,8,9]])\n",
    "print(\"Macierz P=\\n{0}\".format(P))\n",
    "# wyciągnięcie trzeciej kolumny \n",
    "wektor1 = P[:,2]\n",
    "# wyciągnięcie trzeciego wiersza \n",
    "wektor2 = P[2,:]\n",
    "print(\"Elementy trzeciej kolumny:\\n {0}\".format(wektor1))\n",
    "print(\"Elementy trzeciego wiersza:\\n {0}\".format(wektor2))"
   ]
  },
  {
   "cell_type": "markdown",
   "metadata": {},
   "source": [
    "Dodatkowo twórcy biblioteki umożliwiają użytkownikowi na manipulację elementami tablicy poprzez operator ':', więcej szczegółów na temat jego użycia w artykule [NumPy for Matlab users](https://docs.scipy.org/doc/numpy/user/numpy-for-matlab-users.html#numpy-for-matlab-users)."
   ]
  },
  {
   "cell_type": "code",
   "execution_count": 10,
   "metadata": {},
   "outputs": [
    {
     "name": "stdout",
     "output_type": "stream",
     "text": [
      "Element M(1,1): \n",
      " 3\n",
      "Element M(3,3): \n",
      " 1\n",
      "Element M(3,2): \n",
      " 1\n",
      "Wektor w1: \n",
      " [-2  1  1  0]\n",
      "Wektor w2: \n",
      " [0 1 1 5]\n"
     ]
    }
   ],
   "source": [
    "M = np.array([[3, 1, -2, 4], [0, 1, 1, 5], [-2, 1, 1, 6], [4, 3, 0, 1]])\n",
    "\n",
    "print(\"Element M(1,1): \\n {0}\".format(M[0][0]))\n",
    "print(\"Element M(3,3): \\n {0}\".format(M[2][2]))\n",
    "print(\"Element M(3,2): \\n {0}\".format(M[2][1]))\n",
    "\n",
    "w1 = M[:, 2]\n",
    "w2 = M[1, :]\n",
    "\n",
    "print(\"Wektor w1: \\n {0}\".format(w1))\n",
    "print(\"Wektor w2: \\n {0}\".format(w2))"
   ]
  },
  {
   "cell_type": "markdown",
   "metadata": {},
   "source": [
    "Sposób odwoływania się do elementów n-wymiarowej macierzy w $numpy$ jest identyczny jak w tablicach n-wymiarowych. Dodatkowo biblioteka wspiera bardziej zaawansowane opcje odwoływania się do elementów macierzy obecne w języku $Python$ takie jak   $slicing$."
   ]
  },
  {
   "cell_type": "markdown",
   "metadata": {},
   "source": [
    "***Zadanie 6.***   \n",
    "Uzupełnij funkcję $custom\\_matrix$, tak by parametry m, n określały wymiary macierzy wynikowej, która\n",
    "będzie wypełniona w/g algorytmu: jeśli indeks wiersza jest większy od indeksu kolumny\n",
    "wartością komórki jest indeks wiersza, w przeciwnym wypadku wartością komórki jest indeks\n",
    "kolumny. Funkcja jako wynik powinna zwracać uzupełnioną macierz, jeżeli nie jest to możliwe to powinna zwrócić *None*. Na koniec wyświetlić wynikową macierz dla dowolnych argumentów $m$, $n$ z przedziału $\\langle3,7\\rangle$.\n",
    "  \n",
    "***Wskazówka:*** Inicjalizacja pustej macierz wykonywana jest w pakiecie Numpy przy pomocy funkcji  *[zeros](https://docs.scipy.org/doc/numpy-1.15.0/reference/generated/numpy.zeros.html)*, zaś macierzy składającej się z jedynek *[ones](https://docs.scipy.org/doc/numpy/reference/generated/numpy.ones.html)*."
   ]
  },
  {
   "cell_type": "code",
   "execution_count": 11,
   "metadata": {
    "tags": []
   },
   "outputs": [
    {
     "name": "stdout",
     "output_type": "stream",
     "text": [
      "zero_matrix: \n",
      "[[0. 0.]\n",
      " [0. 0.]]\n",
      "ones_matrix: \n",
      "[[1.]\n",
      " [1.]\n",
      " [1.]]\n"
     ]
    }
   ],
   "source": [
    "zero_matrix = np.zeros((2, 2))\n",
    "ones_matrix = np.ones((3,1))\n",
    "\n",
    "print('zero_matrix: \\n{}'.format(zero_matrix))\n",
    "print('ones_matrix: \\n{}'.format(ones_matrix))"
   ]
  },
  {
   "cell_type": "code",
   "execution_count": 12,
   "metadata": {},
   "outputs": [
    {
     "name": "stdout",
     "output_type": "stream",
     "text": [
      "[[0 1 2 3 4 5]\n",
      " [1 1 2 3 4 5]\n",
      " [2 2 2 3 4 5]\n",
      " [3 3 3 3 4 5]]\n",
      "None\n"
     ]
    }
   ],
   "source": [
    "from main import custom_matrix\n",
    "\n",
    "print(custom_matrix(4, 6))\n",
    "print(custom_matrix(0.2, 4))"
   ]
  },
  {
   "cell_type": "markdown",
   "metadata": {},
   "source": [
    "Jako, iż indeksowanie jest identyczne wobec wcześniej wspomnianych tablic wielowymiarowych, realizacja przechodzenia po macierzy i edycji jej elementów jest analogiczna do znanych już rozwiązań. Funkcja zwraca wynikową macierz wtedy i tylko wtedy, gdy wymiary macierzy są dodatnimi liczbami całkowitymi typu $int$. Przydatną opcją funkcji inicjalizującej pustą macierz (w tym przypadku $zeros$) jest parametr $dtype$ pozwalający wybrać, jakiego typu danymi zostanie wypełniona macierz."
   ]
  },
  {
   "cell_type": "markdown",
   "metadata": {},
   "source": [
    "***Zadanie 7.***\n",
    "\n",
    "Biblioteka Numpy posiada własne metody, pozwalające na szybsze i wygotniejsze wykonywanie operacji na wektorach i macierzach. Kolejne zadania mają na celu przećwiczenie tych metod. Zamiast samemu implementować mnożenie macierzy, należy skorzystać właśnie z wbudowanych funkcji Numpy. Najbardzie podstawowe z nich to *[np.multiply](https://docs.scipy.org/doc/numpy-1.15.0/reference/generated/numpy.multiply.html)*, *[np.dot](https://docs.scipy.org/doc/numpy-1.15.0/reference/generated/numpy.dot.html)* oraz *[np.matmul](https://docs.scipy.org/doc/numpy-1.15.1/reference/generated/numpy.matmul.html)*. Przed wykonaniem zadania należy zapoznać się z ich dokumentacją, aby stosować poprawną funkcję do danego typu mnożenia. Dodatkowo ciekawą i użyteczną funkcjonalnością Numpy, wykorzystywaną niekiedy przy dodawaniu macierzy jest *broadcasting*, proszę o zapoznaie się z opisem:  *[[1]](https://docs.scipy.org/doc/numpy-1.15.0/user/basics.broadcasting.html)* *[[2]](https://www.tutorialspoint.com/numpy/numpy_broadcasting.htm)*.\n",
    "\n",
    "Zainicjalizować dwa wektory $v_1$ i $v_2$:\n",
    "\n",
    "$v_1 = \\begin{bmatrix}1\\\\3\\\\13\\end{bmatrix} \\quad v_2 = \\begin{bmatrix}8\\\\5\\\\-2\\end{bmatrix}$\n",
    "\n",
    "Następnie wykonać operacje i wypisać ich wynik:\n",
    "- $4*v_1$\n",
    "- $-v_2 + \\begin{bmatrix}2\\\\2\\\\2\\end{bmatrix}$\n",
    "- $v_1 \\circ v_2$ (w sensie mnożenia macierzy, tzw. mnożenie macierzy w sensie Cauchy’ego)\n",
    "- $v_1 * v_2$ (w sensie mnożenia Hadamarda (element-wise))\n",
    "\n",
    "***Wskazówki:*** Warto wiedzieć o *[np.dot](https://docs.scipy.org/doc/numpy-1.15.0/reference/generated/numpy.dot.html)* i *[np.multiply](https://docs.scipy.org/doc/numpy-1.15.0/reference/generated/numpy.multiply.html)*. Zbadać jak zachowuje się przeciążony operator mnożenia $*$ oraz $@$ dla macierzy $ndarray$."
   ]
  },
  {
   "cell_type": "code",
   "execution_count": 13,
   "metadata": {},
   "outputs": [
    {
     "name": "stdout",
     "output_type": "stream",
     "text": [
      "v1 = \n",
      "[[ 1]\n",
      " [ 3]\n",
      " [13]]\n",
      "v2 = \n",
      "[[ 8]\n",
      " [ 5]\n",
      " [-2]]\n",
      "4*v1 = \n",
      "[[ 4]\n",
      " [12]\n",
      " [52]]\n",
      "-v2 + (2, 2, 2)^T = \n",
      "[[-6]\n",
      " [-3]\n",
      " [ 4]]\n"
     ]
    },
    {
     "ename": "ValueError",
     "evalue": "shapes (3,1) and (3,1) not aligned: 1 (dim 1) != 3 (dim 0)",
     "output_type": "error",
     "traceback": [
      "\u001b[1;31m---------------------------------------------------------------------------\u001b[0m",
      "\u001b[1;31mValueError\u001b[0m                                Traceback (most recent call last)",
      "\u001b[1;32m<ipython-input-13-570a195c760c>\u001b[0m in \u001b[0;36m<module>\u001b[1;34m\u001b[0m\n\u001b[0;32m      7\u001b[0m \u001b[0mprint\u001b[0m\u001b[1;33m(\u001b[0m\u001b[1;34m\"-v2 + (2, 2, 2)^T = \\n{0}\"\u001b[0m\u001b[1;33m.\u001b[0m\u001b[0mformat\u001b[0m\u001b[1;33m(\u001b[0m\u001b[1;33m-\u001b[0m\u001b[0mv2\u001b[0m \u001b[1;33m+\u001b[0m \u001b[1;36m2\u001b[0m \u001b[1;33m*\u001b[0m \u001b[0mnp\u001b[0m\u001b[1;33m.\u001b[0m\u001b[0mones\u001b[0m\u001b[1;33m(\u001b[0m\u001b[1;33m(\u001b[0m\u001b[1;36m3\u001b[0m\u001b[1;33m,\u001b[0m \u001b[1;36m1\u001b[0m\u001b[1;33m)\u001b[0m\u001b[1;33m,\u001b[0m \u001b[0mdtype\u001b[0m \u001b[1;33m=\u001b[0m \u001b[0mint\u001b[0m\u001b[1;33m)\u001b[0m\u001b[1;33m)\u001b[0m\u001b[1;33m)\u001b[0m\u001b[1;33m\u001b[0m\u001b[1;33m\u001b[0m\u001b[0m\n\u001b[0;32m      8\u001b[0m \u001b[1;33m\u001b[0m\u001b[0m\n\u001b[1;32m----> 9\u001b[1;33m \u001b[0mprint\u001b[0m\u001b[1;33m(\u001b[0m\u001b[1;34m\"Iloczyn v1 i v2 w sensie mnożenia macierzy \\n{0}\"\u001b[0m\u001b[1;33m.\u001b[0m\u001b[0mformat\u001b[0m\u001b[1;33m(\u001b[0m\u001b[0mnp\u001b[0m\u001b[1;33m.\u001b[0m\u001b[0mdot\u001b[0m\u001b[1;33m(\u001b[0m\u001b[0mv1\u001b[0m\u001b[1;33m,\u001b[0m \u001b[0mv2\u001b[0m\u001b[1;33m)\u001b[0m\u001b[1;33m)\u001b[0m\u001b[1;33m)\u001b[0m\u001b[1;33m\u001b[0m\u001b[1;33m\u001b[0m\u001b[0m\n\u001b[0m\u001b[0;32m     10\u001b[0m \u001b[0mprint\u001b[0m\u001b[1;33m(\u001b[0m\u001b[1;34m\"Iloczyn v1 i v2 element-wise: \\n{0}\"\u001b[0m\u001b[1;33m.\u001b[0m\u001b[0mformat\u001b[0m\u001b[1;33m(\u001b[0m\u001b[0mnp\u001b[0m\u001b[1;33m.\u001b[0m\u001b[0mmultiply\u001b[0m\u001b[1;33m(\u001b[0m\u001b[0mv1\u001b[0m\u001b[1;33m,\u001b[0m \u001b[0mv2\u001b[0m\u001b[1;33m)\u001b[0m\u001b[1;33m)\u001b[0m\u001b[1;33m)\u001b[0m\u001b[1;33m\u001b[0m\u001b[1;33m\u001b[0m\u001b[0m\n",
      "\u001b[1;32m<__array_function__ internals>\u001b[0m in \u001b[0;36mdot\u001b[1;34m(*args, **kwargs)\u001b[0m\n",
      "\u001b[1;31mValueError\u001b[0m: shapes (3,1) and (3,1) not aligned: 1 (dim 1) != 3 (dim 0)"
     ]
    }
   ],
   "source": [
    "v1 = np.array([[1], [3], [13]])\n",
    "v2 = np.array([[8], [5], [-2]])\n",
    "print(\"v1 = \\n{0}\".format(v1))\n",
    "print(\"v2 = \\n{0}\".format(v2))\n",
    "\n",
    "print(\"4*v1 = \\n{0}\".format(4 * v1))\n",
    "print(\"-v2 + (2, 2, 2)^T = \\n{0}\".format(-v2 + 2 * np.ones((3, 1), dtype = int)))\n",
    "\n",
    "print(\"Iloczyn v1 i v2 w sensie mnożenia macierzy \\n{0}\".format(np.dot(v1, v2)))\n",
    "print(\"Iloczyn v1 i v2 element-wise: \\n{0}\".format(np.multiply(v1, v2)))"
   ]
  },
  {
   "cell_type": "markdown",
   "metadata": {},
   "source": [
    "Wektorów $v_1$ i $v_2$ nie da się pomnożyć w sensie Cauchy'ego, ponieważ nie pozwalają na to ich wymiary - błąd zwracany przez funkcję był spodziewany.  Niektóre operacje udało się uprościć za pomocą funkcji $ones$."
   ]
  },
  {
   "cell_type": "code",
   "execution_count": null,
   "metadata": {},
   "outputs": [],
   "source": [
    "nda = np.ndarray(shape=(3,3), dtype=int)\n",
    "print(nda)\n",
    "print(nda * v1)\n",
    "print(nda @ v1)"
   ]
  },
  {
   "cell_type": "markdown",
   "metadata": {},
   "source": [
    "Przeciążony operator $@$ dla obiektów $ndarray$ reprezentuje klasyczne mnożenie macierzy, zaś $*$ oznacza mnożenie $\\textit{element-wise}$. "
   ]
  },
  {
   "cell_type": "markdown",
   "metadata": {},
   "source": [
    "***Zadanie 8.***\n",
    "Zainicjalizować macierz $M_1$:\n",
    "\n",
    "$M_1 = \\begin{bmatrix}1&-7&3\\\\-12&3&4\\\\5&13&-3\\end{bmatrix}$\n",
    "\n",
    "Następnie wykonać operacje i wypisać ich wynik:\n",
    "- $3M_1$\n",
    "- $3M_1 + \\begin{bmatrix}1&1&1\\\\1&1&1\\\\1&1&1\\end{bmatrix}$\n",
    "- $M_1^T$\n",
    "- $M_1 \\circ v_1$ \n",
    "- $v_2^T \\circ M_1$"
   ]
  },
  {
   "cell_type": "code",
   "execution_count": null,
   "metadata": {},
   "outputs": [],
   "source": [
    "M1 = np.array([[1, -7, 3], [-12, 3, 4], [5, 13, -3]])\n",
    "print(\"3*M1 = \\n{0}\".format(3*M1))\n",
    "print(\"3*M1 + macierz jedynek = \\n{0}\".format(3*M1 + np.ones(3, dtype=int)))\n",
    "print(\"Transpozycja macierzy M1: \\n{0}\".format(np.transpose(M1)))\n",
    "print(\"M1 ◦ v1 = \\n{0}\".format(np.dot(M1, v1)))\n",
    "print(\"v2^T ◦ M1 = \\n{0}\".format(np.dot(np.transpose(v2), M1)))\n",
    "\n"
   ]
  },
  {
   "cell_type": "markdown",
   "metadata": {},
   "source": [
    "Operacje mnożenia macierzy przez skalar czy iloczyn macierzy i wektora są wspierane przez $numpy$ - funkcje działają zarówno dla wektorów, jak i macierzy. Liczy się jedynie wymóg kompatybilności wymiarów elementów, który jednak może być czasem ominięty przez $broadcasting$. Ponownie kod można było uprościć za pomocą funkcji $ones$.    "
   ]
  },
  {
   "cell_type": "markdown",
   "metadata": {},
   "source": [
    "Materiały uzupełniające:\n",
    "- [Scipy Lecture Notes](http://www.scipy-lectures.org/index.html)\n",
    "- [NumPy for Matlab users](https://docs.scipy.org/doc/numpy/user/numpy-for-matlab-users.html#numpy-for-matlab-users)\n",
    "- [Python Tutorial - W3Schools](https://www.w3schools.com/python/default.asp)\n",
    "- [NumPy](https://www.numpy.org)\n",
    "- [Matplotlib](https://matplotlib.org/)\n",
    "- [Anaconda](https://www.anaconda.com/)\n",
    "- [Learn Python for Data Science](https://www.datacamp.com/learn-python-with-anaconda?utm_source=Anaconda_download&utm_campaign=datacamp_training&utm_medium=banner)\n",
    "- [Learn Python](https://www.learnpython.org/)\n",
    "- [Wujek Google](https://google.pl) i [Ciocia Wikipedia](https://pl.wikipedia.org/wiki/Wikipedia:Strona_g%C5%82%C3%B3wna)"
   ]
  }
 ],
 "metadata": {
  "celltoolbar": "Raw Cell Format",
  "kernelspec": {
   "display_name": "Python 3",
   "language": "python",
   "name": "python3"
  },
  "language_info": {
   "codemirror_mode": {
    "name": "ipython",
    "version": 3
   },
   "file_extension": ".py",
   "mimetype": "text/x-python",
   "name": "python",
   "nbconvert_exporter": "python",
   "pygments_lexer": "ipython3",
   "version": "3.8.8"
  }
 },
 "nbformat": 4,
 "nbformat_minor": 4
}
